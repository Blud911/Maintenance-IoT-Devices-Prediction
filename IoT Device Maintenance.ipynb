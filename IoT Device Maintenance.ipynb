{
 "cells": [
  {
   "cell_type": "markdown",
   "id": "ed9c7d5c-7c81-427c-88d4-8f82081f0915",
   "metadata": {},
   "source": [
    "## Generate a synthetic IoT dataset that mimics a real-world scenario for a fictional house"
   ]
  },
  {
   "cell_type": "markdown",
   "id": "7e416766-96a1-4c35-878b-0a35def3818a",
   "metadata": {},
   "source": [
    "### Import the necessary librairies"
   ]
  },
  {
   "cell_type": "code",
   "execution_count": 3,
   "id": "cb3a709a-3582-43ef-87a3-c7a099ee0d19",
   "metadata": {},
   "outputs": [],
   "source": [
    "import pandas as pd\n",
    "import numpy as np\n",
    "from faker import Faker\n",
    "from datetime import datetime, timedelta\n",
    "import random\n",
    "import warnings\n",
    "warnings.filterwarnings('ignore')"
   ]
  },
  {
   "cell_type": "markdown",
   "id": "3fcfb85b-8572-497e-ba5e-54583666dae1",
   "metadata": {},
   "source": [
    "### Initialize Faker for generating synthetic data"
   ]
  },
  {
   "cell_type": "code",
   "execution_count": 5,
   "id": "6ac4bb27-3211-4ccd-af89-d3bfdb7924be",
   "metadata": {},
   "outputs": [],
   "source": [
    "fake = Faker()\n",
    "\n",
    "# Set a random seed for reproducibility\n",
    "np.random.seed(42)\n",
    "\n",
    "# Number of devices\n",
    "num_devices = 1000"
   ]
  },
  {
   "cell_type": "markdown",
   "id": "93e554fe-b0b6-461b-8427-f9a2a53e5161",
   "metadata": {},
   "source": [
    "### Generate the dataset"
   ]
  },
  {
   "cell_type": "code",
   "execution_count": 7,
   "id": "18a68ceb-a53b-454d-8629-8a7371b0a9da",
   "metadata": {},
   "outputs": [],
   "source": [
    "# Device types and models\n",
    "device_types = ['Thermostat', 'Smart Light', 'Smart Lock', 'Security Camera', 'Smart Speaker']\n",
    "device_models = {\n",
    "    'Thermostat': ['T100', 'T200', 'T300'],\n",
    "    'Smart Light': ['L100', 'L200', 'L300'],\n",
    "    'Smart Lock': ['SL100', 'SL200', 'SL300'],\n",
    "    'Security Camera': ['C100', 'C200', 'C300'],\n",
    "    'Smart Speaker': ['S100', 'S200', 'S300']\n",
    "}\n",
    "\n",
    "# Locations in the house\n",
    "locations = ['Living Room', 'Bedroom', 'Kitchen', 'Bathroom', 'Garage', 'Garden']\n",
    "\n",
    "# Date range for device installation\n",
    "start_date = datetime(2018, 1, 1)\n",
    "end_date = datetime(2023, 1, 1)\n",
    "\n",
    "# Function to generate a random date\n",
    "def random_date(start, end):\n",
    "    return start + timedelta(days=random.randint(0, (end - start).days))\n",
    "\n",
    "# Generate the dataset\n",
    "data = []\n",
    "for i in range(num_devices):\n",
    "    device_id = f\"D{i+1:04d}\"\n",
    "    device_type = random.choice(device_types)\n",
    "    model = random.choice(device_models[device_type])\n",
    "    location = random.choice(locations)\n",
    "    installation_date = random_date(start_date, end_date)\n",
    "    current_date = datetime(2024, 9, 1)  # Assume the current date is fixed for consistency\n",
    "    device_age_days = (current_date - installation_date).days\n",
    "    errors = max(0, int(np.random.poisson(1) + np.random.normal(0, 1)))  # Errors are typically low but can vary\n",
    "    data.append([device_id, device_type, model, location, installation_date, current_date, device_age_days, errors])\n",
    "\n",
    "# Convert to DataFrame\n",
    "df = pd.DataFrame(data, columns=['Device_ID', 'Device_Type', 'Model', 'Location', 'Installation_Date', 'Date', 'Device_Age_Days', 'Errors'])\n",
    "\n",
    "# Add some noise to the 'Errors' to simulate real-world inconsistencies\n",
    "df['Errors'] = df['Errors'] + np.random.randint(0, 3, size=len(df))\n",
    "\n",
    "# Shuffle the dataset to randomize the order\n",
    "df = df.sample(frac=1).reset_index(drop=True)"
   ]
  },
  {
   "cell_type": "markdown",
   "id": "9a00d00e-1aea-4352-afed-95079d06b4c1",
   "metadata": {},
   "source": [
    "### Display the first few rows of the dataset"
   ]
  },
  {
   "cell_type": "code",
   "execution_count": 9,
   "id": "cf3aa9fa-e616-4734-9f47-c34c97e22e2a",
   "metadata": {},
   "outputs": [
    {
     "data": {
      "text/html": [
       "<div>\n",
       "<style scoped>\n",
       "    .dataframe tbody tr th:only-of-type {\n",
       "        vertical-align: middle;\n",
       "    }\n",
       "\n",
       "    .dataframe tbody tr th {\n",
       "        vertical-align: top;\n",
       "    }\n",
       "\n",
       "    .dataframe thead th {\n",
       "        text-align: right;\n",
       "    }\n",
       "</style>\n",
       "<table border=\"1\" class=\"dataframe\">\n",
       "  <thead>\n",
       "    <tr style=\"text-align: right;\">\n",
       "      <th></th>\n",
       "      <th>Device_ID</th>\n",
       "      <th>Device_Type</th>\n",
       "      <th>Model</th>\n",
       "      <th>Location</th>\n",
       "      <th>Installation_Date</th>\n",
       "      <th>Date</th>\n",
       "      <th>Device_Age_Days</th>\n",
       "      <th>Errors</th>\n",
       "    </tr>\n",
       "  </thead>\n",
       "  <tbody>\n",
       "    <tr>\n",
       "      <th>0</th>\n",
       "      <td>D0252</td>\n",
       "      <td>Smart Speaker</td>\n",
       "      <td>S300</td>\n",
       "      <td>Bathroom</td>\n",
       "      <td>2019-08-15</td>\n",
       "      <td>2024-09-01</td>\n",
       "      <td>1844</td>\n",
       "      <td>2</td>\n",
       "    </tr>\n",
       "    <tr>\n",
       "      <th>1</th>\n",
       "      <td>D0746</td>\n",
       "      <td>Security Camera</td>\n",
       "      <td>C200</td>\n",
       "      <td>Garage</td>\n",
       "      <td>2018-08-07</td>\n",
       "      <td>2024-09-01</td>\n",
       "      <td>2217</td>\n",
       "      <td>3</td>\n",
       "    </tr>\n",
       "    <tr>\n",
       "      <th>2</th>\n",
       "      <td>D0447</td>\n",
       "      <td>Smart Speaker</td>\n",
       "      <td>S200</td>\n",
       "      <td>Bedroom</td>\n",
       "      <td>2020-04-03</td>\n",
       "      <td>2024-09-01</td>\n",
       "      <td>1612</td>\n",
       "      <td>2</td>\n",
       "    </tr>\n",
       "    <tr>\n",
       "      <th>3</th>\n",
       "      <td>D0813</td>\n",
       "      <td>Smart Light</td>\n",
       "      <td>L300</td>\n",
       "      <td>Kitchen</td>\n",
       "      <td>2018-08-29</td>\n",
       "      <td>2024-09-01</td>\n",
       "      <td>2195</td>\n",
       "      <td>1</td>\n",
       "    </tr>\n",
       "    <tr>\n",
       "      <th>4</th>\n",
       "      <td>D0814</td>\n",
       "      <td>Smart Speaker</td>\n",
       "      <td>S100</td>\n",
       "      <td>Garage</td>\n",
       "      <td>2021-09-24</td>\n",
       "      <td>2024-09-01</td>\n",
       "      <td>1073</td>\n",
       "      <td>2</td>\n",
       "    </tr>\n",
       "  </tbody>\n",
       "</table>\n",
       "</div>"
      ],
      "text/plain": [
       "  Device_ID      Device_Type Model  Location Installation_Date       Date  \\\n",
       "0     D0252    Smart Speaker  S300  Bathroom        2019-08-15 2024-09-01   \n",
       "1     D0746  Security Camera  C200    Garage        2018-08-07 2024-09-01   \n",
       "2     D0447    Smart Speaker  S200   Bedroom        2020-04-03 2024-09-01   \n",
       "3     D0813      Smart Light  L300   Kitchen        2018-08-29 2024-09-01   \n",
       "4     D0814    Smart Speaker  S100    Garage        2021-09-24 2024-09-01   \n",
       "\n",
       "   Device_Age_Days  Errors  \n",
       "0             1844       2  \n",
       "1             2217       3  \n",
       "2             1612       2  \n",
       "3             2195       1  \n",
       "4             1073       2  "
      ]
     },
     "execution_count": 9,
     "metadata": {},
     "output_type": "execute_result"
    }
   ],
   "source": [
    "df.head()"
   ]
  },
  {
   "cell_type": "markdown",
   "id": "a4353144-1366-44eb-8333-2b614929c887",
   "metadata": {},
   "source": [
    "### Save the dataset to a CSV file"
   ]
  },
  {
   "cell_type": "code",
   "execution_count": 11,
   "id": "f12851a9-8bbc-4545-a246-db96be39ba78",
   "metadata": {},
   "outputs": [],
   "source": [
    "df.to_csv('synthetic_iot_devices.csv', index=False)"
   ]
  },
  {
   "cell_type": "markdown",
   "id": "96ba135c-aece-47ae-85cc-b4ce100f3ed5",
   "metadata": {},
   "source": [
    "## Predict maintenance needs "
   ]
  },
  {
   "cell_type": "markdown",
   "id": "eb9913fb-39bd-49b3-b4ca-50abe79d62ad",
   "metadata": {},
   "source": [
    "### Import the necessary librairies"
   ]
  },
  {
   "cell_type": "code",
   "execution_count": 14,
   "id": "5bc3923e-d02e-4a8b-8b3d-e9680e2d59bc",
   "metadata": {},
   "outputs": [],
   "source": [
    "import pandas as pd\n",
    "import numpy as np\n",
    "from sklearn.model_selection import train_test_split, GridSearchCV, cross_val_score\n",
    "from sklearn.ensemble import RandomForestClassifier\n",
    "from sklearn.metrics import accuracy_score, precision_score, recall_score, f1_score, classification_report\n",
    "from datetime import datetime, timedelta\n",
    "import joblib"
   ]
  },
  {
   "cell_type": "markdown",
   "id": "2ee827ab-1560-4328-b71e-1493afa36a8c",
   "metadata": {},
   "source": [
    "### Data Preprocessing"
   ]
  },
  {
   "cell_type": "code",
   "execution_count": 16,
   "id": "835e25fc-4d2c-4de0-9186-32bdd0c7fc0b",
   "metadata": {},
   "outputs": [
    {
     "name": "stdout",
     "output_type": "stream",
     "text": [
      "<class 'pandas.core.frame.DataFrame'>\n",
      "RangeIndex: 1000 entries, 0 to 999\n",
      "Data columns (total 8 columns):\n",
      " #   Column             Non-Null Count  Dtype         \n",
      "---  ------             --------------  -----         \n",
      " 0   Device_ID          1000 non-null   object        \n",
      " 1   Device_Type        1000 non-null   object        \n",
      " 2   Model              1000 non-null   object        \n",
      " 3   Location           1000 non-null   object        \n",
      " 4   Installation_Date  1000 non-null   datetime64[ns]\n",
      " 5   Date               1000 non-null   datetime64[ns]\n",
      " 6   Device_Age_Days    1000 non-null   int64         \n",
      " 7   Errors             1000 non-null   int64         \n",
      "dtypes: datetime64[ns](2), int64(2), object(4)\n",
      "memory usage: 62.6+ KB\n"
     ]
    }
   ],
   "source": [
    "df.info()"
   ]
  },
  {
   "cell_type": "markdown",
   "id": "7f28c216-70be-4248-9424-df35bda68292",
   "metadata": {},
   "source": [
    "#### Convert \"Date\" in the appropriate format"
   ]
  },
  {
   "cell_type": "code",
   "execution_count": 18,
   "id": "0aff2995-c2f7-4d41-9ad6-af683bccc704",
   "metadata": {},
   "outputs": [],
   "source": [
    "df['Installation_Date'] = pd.to_datetime(df['Installation_Date'])\n",
    "df['Date'] = pd.to_datetime(df['Date'])\n",
    "df['Device_Age_Days'] = (df['Date'] - df['Installation_Date']).dt.days"
   ]
  },
  {
   "cell_type": "markdown",
   "id": "b8778e25-a606-4cd2-8227-5cd176e93386",
   "metadata": {},
   "source": [
    "#### Check for Missing Values"
   ]
  },
  {
   "cell_type": "code",
   "execution_count": 20,
   "id": "26c71c8e-604f-4418-8073-ac92aa01857d",
   "metadata": {},
   "outputs": [
    {
     "name": "stdout",
     "output_type": "stream",
     "text": [
      "Missing values in each column:\n",
      "Series([], dtype: int64)\n"
     ]
    }
   ],
   "source": [
    "missing_values = df.isnull().sum()\n",
    "print(\"Missing values in each column:\")\n",
    "print(missing_values[missing_values > 0])"
   ]
  },
  {
   "cell_type": "markdown",
   "id": "bae92363-de5c-4061-8b2f-129439ac8da0",
   "metadata": {},
   "source": [
    "#### Check for NA values in the DataFrame"
   ]
  },
  {
   "cell_type": "code",
   "execution_count": 22,
   "id": "c950b059-bd24-407d-90ef-b34c018bfb1e",
   "metadata": {},
   "outputs": [
    {
     "name": "stdout",
     "output_type": "stream",
     "text": [
      "There is no 'NA' in the DataFrame.\n"
     ]
    }
   ],
   "source": [
    "na_count = df.isna().sum().sum()\n",
    "\n",
    "# Print the result\n",
    "if na_count > 0:\n",
    "    print(f\"There are {na_count} 'NA' values in the DataFrame.\")\n",
    "else:\n",
    "    print(\"There is no 'NA' in the DataFrame.\")"
   ]
  },
  {
   "cell_type": "markdown",
   "id": "de3f5bc2-4615-4123-9f90-fa46050a411e",
   "metadata": {},
   "source": [
    "#### Encode categorical variables"
   ]
  },
  {
   "cell_type": "code",
   "execution_count": 24,
   "id": "a35d83f4-ab65-46a5-bce4-b6d59dfc518e",
   "metadata": {},
   "outputs": [],
   "source": [
    "# Encode categorical variables\n",
    "categorical_cols = ['Device_Type', 'Model', 'Location']\n",
    "df = pd.get_dummies(df, columns=categorical_cols, drop_first=True)\n"
   ]
  },
  {
   "cell_type": "markdown",
   "id": "543a275f-903a-4c24-b798-7a983514d46f",
   "metadata": {},
   "source": [
    "#### Define 'Maintenance_Needed' column based on criteria: errors > 2 or device age > 1000 days"
   ]
  },
  {
   "cell_type": "code",
   "execution_count": 26,
   "id": "3b6f73a0-14e3-4645-b091-16d43decab7f",
   "metadata": {},
   "outputs": [],
   "source": [
    "df['Maintenance_Needed'] = np.where((df['Errors'] > 2) | (df['Device_Age_Days'] > 1000), 1, 0)"
   ]
  },
  {
   "cell_type": "markdown",
   "id": "e44aa49c-5f71-4f54-8ca5-fd733e784911",
   "metadata": {},
   "source": [
    "#### Create Features and Target variable"
   ]
  },
  {
   "cell_type": "code",
   "execution_count": 28,
   "id": "c8d1b3c2-782d-4c9c-9f75-4da6951e186f",
   "metadata": {},
   "outputs": [],
   "source": [
    "X = df.drop(['Date', 'Maintenance_Needed', 'Installation_Date', 'Device_ID'], axis=1)\n",
    "y = df['Maintenance_Needed']"
   ]
  },
  {
   "cell_type": "markdown",
   "id": "02b8cf67-1820-454a-888f-d9ec67b5e48b",
   "metadata": {},
   "source": [
    "#### Split the data into training and testing sets"
   ]
  },
  {
   "cell_type": "code",
   "execution_count": 30,
   "id": "1fc3990f-9496-4749-a1d7-39ddf33d2df2",
   "metadata": {},
   "outputs": [],
   "source": [
    "X_train, X_test, y_train, y_test = train_test_split(X, y, test_size=0.2, random_state=42)"
   ]
  },
  {
   "cell_type": "markdown",
   "id": "26d6b263-3c76-4eb3-916b-ce49202b0cfa",
   "metadata": {},
   "source": [
    "#### Model Selection with GridSearchCV"
   ]
  },
  {
   "cell_type": "code",
   "execution_count": 32,
   "id": "f3584c5c-bca7-4329-ac7f-60deff913070",
   "metadata": {},
   "outputs": [
    {
     "name": "stdout",
     "output_type": "stream",
     "text": [
      "Fitting 5 folds for each of 108 candidates, totalling 540 fits\n"
     ]
    }
   ],
   "source": [
    "param_grid = {\n",
    "    'n_estimators': [100, 200, 300],\n",
    "    'max_depth': [None, 10, 20, 30],\n",
    "    'min_samples_split': [2, 5, 10],\n",
    "    'min_samples_leaf': [1, 2, 4]\n",
    "}\n",
    "\n",
    "grid_search = GridSearchCV(estimator=RandomForestClassifier(random_state=42), param_grid=param_grid, \n",
    "                           cv=5, n_jobs=-1, scoring='f1', verbose=2)\n",
    "grid_search.fit(X_train, y_train)\n",
    "\n",
    "# Best Model after GridSearch\n",
    "best_model = grid_search.best_estimator_"
   ]
  },
  {
   "cell_type": "markdown",
   "id": "8518b0f4-329c-4009-8f12-b91cdf3ed131",
   "metadata": {},
   "source": [
    "#### Cross-Validation Score"
   ]
  },
  {
   "cell_type": "code",
   "execution_count": 34,
   "id": "50fb57d9-6f01-4c6d-a237-67fdba3068f3",
   "metadata": {},
   "outputs": [
    {
     "name": "stdout",
     "output_type": "stream",
     "text": [
      "Cross-Validation F1-Score: 0.9992452830188678\n"
     ]
    }
   ],
   "source": [
    "cv_scores = cross_val_score(best_model, X_train, y_train, cv=5, scoring='f1')\n",
    "print(f\"Cross-Validation F1-Score: {cv_scores.mean()}\")"
   ]
  },
  {
   "cell_type": "markdown",
   "id": "3b80e3f5-9f08-48c8-b175-70bddd4e474c",
   "metadata": {},
   "source": [
    "#### Train the best model on the full training set then make prediction"
   ]
  },
  {
   "cell_type": "code",
   "execution_count": 36,
   "id": "df2e452b-47c9-47aa-9f21-0a5efcaf47eb",
   "metadata": {},
   "outputs": [
    {
     "name": "stdout",
     "output_type": "stream",
     "text": [
      "Accuracy: 1.0\n",
      "Precision: 1.0\n",
      "Recall: 1.0\n",
      "F1-Score: 1.0\n",
      "\n",
      "Classification Report:\n",
      "               precision    recall  f1-score   support\n",
      "\n",
      "           0       1.00      1.00      1.00        29\n",
      "           1       1.00      1.00      1.00       171\n",
      "\n",
      "    accuracy                           1.00       200\n",
      "   macro avg       1.00      1.00      1.00       200\n",
      "weighted avg       1.00      1.00      1.00       200\n",
      "\n"
     ]
    }
   ],
   "source": [
    "best_model.fit(X_train, y_train)\n",
    "\n",
    "# Make predictions\n",
    "y_pred = best_model.predict(X_test)\n",
    "\n",
    "# Evaluate the model\n",
    "accuracy = accuracy_score(y_test, y_pred)\n",
    "precision = precision_score(y_test, y_pred)\n",
    "recall = recall_score(y_test, y_pred)\n",
    "f1 = f1_score(y_test, y_pred)\n",
    "\n",
    "print(f\"Accuracy: {accuracy}\")\n",
    "print(f\"Precision: {precision}\")\n",
    "print(f\"Recall: {recall}\")\n",
    "print(f\"F1-Score: {f1}\")\n",
    "print(\"\\nClassification Report:\\n\", classification_report(y_test, y_pred))"
   ]
  },
  {
   "cell_type": "markdown",
   "id": "cd283f95-68e9-4e84-b2fe-cf47033efeab",
   "metadata": {},
   "source": [
    "### Error Analysis"
   ]
  },
  {
   "cell_type": "markdown",
   "id": "a2df524d-3136-4d90-bb12-3786872fd4d2",
   "metadata": {},
   "source": [
    "#### 1. Review Confusion Matrix"
   ]
  },
  {
   "cell_type": "code",
   "execution_count": 39,
   "id": "ae8a53d4-937c-4153-972d-258379c80f46",
   "metadata": {
    "scrolled": true
   },
   "outputs": [
    {
     "data": {
      "image/png": "[encoded data removed]",
      "text/plain": [
       "<Figure size 800x600 with 2 Axes>"
      ]
     },
     "metadata": {},
     "output_type": "display_data"
    }
   ],
   "source": [
    "from sklearn.metrics import confusion_matrix\n",
    "import seaborn as sns\n",
    "import matplotlib.pyplot as plt\n",
    "\n",
    "# Generate the confusion matrix\n",
    "cm = confusion_matrix(y_test, y_pred)\n",
    "\n",
    "# Plot the confusion matrix\n",
    "plt.figure(figsize=(8, 6))\n",
    "sns.heatmap(cm, annot=True, fmt='d', cmap='Blues', xticklabels=['Class 0', 'Class 1'], yticklabels=['Class 0', 'Class 1'])\n",
    "plt.xlabel('Predicted Label')\n",
    "plt.ylabel('True Label')\n",
    "plt.title('Confusion Matrix')\n",
    "plt.show()"
   ]
  },
  {
   "cell_type": "markdown",
   "id": "771957dc-0d16-4df3-95a7-b6edb7df2ec1",
   "metadata": {},
   "source": [
    "#### 2. Identify Misclassified Instances"
   ]
  },
  {
   "cell_type": "code",
   "execution_count": 41,
   "id": "e0c3d41e-dedf-4d3a-b6fc-1005480018c4",
   "metadata": {},
   "outputs": [
    {
     "name": "stdout",
     "output_type": "stream",
     "text": [
      "Misclassified Instances:\n",
      "Empty DataFrame\n",
      "Columns: [True_Label, Predicted_Label]\n",
      "Index: []\n"
     ]
    }
   ],
   "source": [
    "# Create a DataFrame with predictions and true labels\n",
    "results = pd.DataFrame({\n",
    "    'True_Label': y_test,\n",
    "    'Predicted_Label': y_pred\n",
    "})\n",
    "\n",
    "# Find misclassified instances\n",
    "misclassified = results[results['True_Label'] != results['Predicted_Label']]\n",
    "print(\"Misclassified Instances:\")\n",
    "print(misclassified)"
   ]
  },
  {
   "cell_type": "markdown",
   "id": "74a09400-952a-4d78-aac9-fa0ec6515800",
   "metadata": {},
   "source": [
    "#### Feature Importance Analysis"
   ]
  },
  {
   "cell_type": "code",
   "execution_count": 43,
   "id": "80bc26dc-887f-4b8a-bfaa-6083e9ade90c",
   "metadata": {},
   "outputs": [
    {
     "name": "stdout",
     "output_type": "stream",
     "text": [
      "\n",
      "Feature Importances:\n",
      "                       Feature  Importance\n",
      "0             Device_Age_Days    0.750692\n",
      "1                      Errors    0.154617\n",
      "22            Location_Garden    0.009175\n",
      "5      Device_Type_Thermostat    0.008840\n",
      "24       Location_Living Room    0.008738\n",
      "23           Location_Kitchen    0.008531\n",
      "18                 Model_T200    0.008217\n",
      "21            Location_Garage    0.006531\n",
      "20           Location_Bedroom    0.006134\n",
      "17                 Model_T100    0.004284\n",
      "13                 Model_S300    0.003517\n",
      "19                 Model_T300    0.003414\n",
      "7                  Model_C300    0.003201\n",
      "12                 Model_S200    0.003071\n",
      "3      Device_Type_Smart Lock    0.002445\n",
      "11                 Model_S100    0.002444\n",
      "14                Model_SL100    0.002260\n",
      "16                Model_SL300    0.002144\n",
      "10                 Model_L300    0.002032\n",
      "9                  Model_L200    0.002003\n",
      "2     Device_Type_Smart Light    0.001902\n",
      "4   Device_Type_Smart Speaker    0.001744\n",
      "6                  Model_C200    0.001563\n",
      "15                Model_SL200    0.001540\n",
      "8                  Model_L100    0.000960\n"
     ]
    }
   ],
   "source": [
    "feature_importances = pd.DataFrame({'Feature': X.columns, 'Importance': best_model.feature_importances_})\n",
    "feature_importances = feature_importances.sort_values(by='Importance', ascending=False)\n",
    "print(\"\\nFeature Importances:\\n\", feature_importances)"
   ]
  },
  {
   "cell_type": "markdown",
   "id": "aa0cc79e-9a5d-4530-bc75-46dc1fcfc4fc",
   "metadata": {},
   "source": [
    "#### Plot feature importance"
   ]
  },
  {
   "cell_type": "code",
   "execution_count": 45,
   "id": "a26afc1a-133d-4741-835e-5a01c68e31ef",
   "metadata": {
    "scrolled": true
   },
   "outputs": [
    {
     "data": {
      "image/png": "[encoded data removed]",
      "text/plain": [
       "<Figure size 1200x800 with 1 Axes>"
      ]
     },
     "metadata": {},
     "output_type": "display_data"
    }
   ],
   "source": [
    "# Sort features by importance  \n",
    "feature_importances_sorted = feature_importances.sort_values(by='Importance', ascending=False)  \n",
    "\n",
    "# Limit to top N features (e.g., top 20)  \n",
    "top_n = 20  \n",
    "feature_importances_top = feature_importances_sorted.head(top_n)  \n",
    "\n",
    "# Plot the feature importances  \n",
    "plt.figure(figsize=(12, 8))  \n",
    "sns.barplot(x='Importance', y='Feature', data=feature_importances_top, palette='viridis')  \n",
    "\n",
    "plt.title('Feature Importances')  \n",
    "plt.xlabel('Importance')  \n",
    "plt.ylabel('Feature')  \n",
    "plt.xticks(rotation=45, ha='right')  # Rotate x-axis labels for better readability  \n",
    "plt.grid(True)  \n",
    "plt.tight_layout()  # Adjust layout to prevent clipping of tick-labels  \n",
    "plt.show()"
   ]
  },
  {
   "cell_type": "markdown",
   "id": "c88c6cec-2b99-4db2-9e4b-3e206b2f2a0f",
   "metadata": {},
   "source": [
    "### Predict Failures"
   ]
  },
  {
   "cell_type": "code",
   "execution_count": 47,
   "id": "35065d3c-74ca-4b8e-9f10-a453c2532128",
   "metadata": {},
   "outputs": [],
   "source": [
    "df['Predicted_Maintenance_Needed'] = best_model.predict(X)"
   ]
  },
  {
   "cell_type": "markdown",
   "id": "36397a70-6860-4d7f-929e-781704578cf3",
   "metadata": {},
   "source": [
    "### Identify devices likely to fail within the next 30 days"
   ]
  },
  {
   "cell_type": "code",
   "execution_count": 49,
   "id": "6c7e4ffc-3c5d-4528-bfdb-7466a6e193ae",
   "metadata": {},
   "outputs": [],
   "source": [
    "future_date = df['Date'].max() + timedelta(days=30)\n",
    "future_predictions = df[df['Date'] <= future_date]"
   ]
  },
  {
   "cell_type": "markdown",
   "id": "ee38eae1-0183-4bb2-b275-a7c649d4a2f8",
   "metadata": {},
   "source": [
    "### Schedule Maintenance"
   ]
  },
  {
   "cell_type": "code",
   "execution_count": 51,
   "id": "36235da1-1d1d-4a00-83a0-a7032d2a62a4",
   "metadata": {},
   "outputs": [],
   "source": [
    "\n",
    "# Schedule Maintenance\n",
    "maintenance_schedule = future_predictions[future_predictions['Predicted_Maintenance_Needed'] == 1]\n",
    "\n",
    "# Ensure maintenance_schedule has the same features as the original X\n",
    "X_maintenance = maintenance_schedule[X.columns]\n"
   ]
  },
  {
   "cell_type": "code",
   "execution_count": 52,
   "id": "0f77a7d0-ba1f-48cb-b6f7-10f2ee674886",
   "metadata": {},
   "outputs": [
    {
     "data": {
      "text/plain": [
       "Device_ID\n",
       "D0252    1\n",
       "D0109    1\n",
       "D0291    1\n",
       "D0251    1\n",
       "D0190    1\n",
       "        ..\n",
       "D0113    1\n",
       "D0472    1\n",
       "D0226    1\n",
       "D0801    1\n",
       "D0884    1\n",
       "Name: count, Length: 831, dtype: int64"
      ]
     },
     "execution_count": 52,
     "metadata": {},
     "output_type": "execute_result"
    }
   ],
   "source": [
    "maintenance_schedule['Device_ID'].value_counts()"
   ]
  },
  {
   "cell_type": "markdown",
   "id": "79987c4d-4f93-4003-9b54-7b6ad67eb32b",
   "metadata": {},
   "source": [
    "### Output maintenance schedule"
   ]
  },
  {
   "cell_type": "code",
   "execution_count": 54,
   "id": "805904c5-5945-4c7c-a152-b7a464cc3b44",
   "metadata": {
    "scrolled": true
   },
   "outputs": [
    {
     "name": "stdout",
     "output_type": "stream",
     "text": [
      "\n",
      "Maintenance Schedule:\n",
      "     Device_ID       Date  Failure_Probability\n",
      "390     D0085 2024-09-01             1.000000\n",
      "349     D0136 2024-09-01             1.000000\n",
      "379     D0706 2024-09-01             1.000000\n",
      "378     D0791 2024-09-01             1.000000\n",
      "377     D0197 2024-09-01             1.000000\n",
      "..        ...        ...                  ...\n",
      "398     D0098 2024-09-01             0.771071\n",
      "72      D0921 2024-09-01             0.757500\n",
      "44      D0564 2024-09-01             0.756667\n",
      "294     D0501 2024-09-01             0.744905\n",
      "998     D0256 2024-09-01             0.730000\n",
      "\n",
      "[831 rows x 3 columns]\n"
     ]
    }
   ],
   "source": [
    "# Prioritize based on failure probability\n",
    "maintenance_schedule['Failure_Probability'] = best_model.predict_proba(X_maintenance)[:, 1]\n",
    "maintenance_schedule = maintenance_schedule.sort_values(by='Failure_Probability', ascending=False)\n",
    "\n",
    "# Output maintenance schedule\n",
    "maintenance_schedule = maintenance_schedule[['Device_ID', 'Date', 'Failure_Probability']]\n",
    "print(\"\\nMaintenance Schedule:\\n\", maintenance_schedule)\n"
   ]
  },
  {
   "cell_type": "markdown",
   "id": "1cb53ce2-9681-4e1b-93cb-14e4f980cbd0",
   "metadata": {},
   "source": [
    "#### Save the schedule to a CSV file"
   ]
  },
  {
   "cell_type": "code",
   "execution_count": 56,
   "id": "183be7d6-7595-4130-b8d4-3060a9b3ef56",
   "metadata": {},
   "outputs": [],
   "source": [
    "maintenance_schedule.to_csv('maintenance_schedule.csv', index=False)"
   ]
  },
  {
   "cell_type": "markdown",
   "id": "dc563994-09c8-46ac-80fb-c1eadb69bf6b",
   "metadata": {},
   "source": [
    "#### Save the trained model for future use"
   ]
  },
  {
   "cell_type": "code",
   "execution_count": 58,
   "id": "27578627-9939-444a-a416-1f8dba543ba8",
   "metadata": {},
   "outputs": [
    {
     "data": {
      "text/plain": [
       "['best_maintenance_model.pkl']"
      ]
     },
     "execution_count": 58,
     "metadata": {},
     "output_type": "execute_result"
    }
   ],
   "source": [
    "joblib.dump(best_model, 'best_maintenance_model.pkl')"
   ]
  },
  {
   "cell_type": "markdown",
   "id": "838aa00e-c3b7-4294-b9b7-fdfdd8e39384",
   "metadata": {},
   "source": [
    "##  Create the Dash Application"
   ]
  },
  {
   "cell_type": "markdown",
   "id": "be0af0de-8ab4-4f2c-8f57-eb9d61c3b59c",
   "metadata": {},
   "source": [
    "### 1: Install Necessary Libraries"
   ]
  },
  {
   "cell_type": "code",
   "execution_count": 61,
   "id": "eb7f2a31-6ad4-4210-899c-e57b059b6496",
   "metadata": {},
   "outputs": [],
   "source": [
    "import dash\n",
    "from dash import dcc, html\n",
    "from dash.dependencies import Input, Output\n",
    "import plotly.express as px\n",
    "import pandas as pd"
   ]
  },
  {
   "cell_type": "code",
   "execution_count": 62,
   "id": "07ccad1e-ff74-472d-9193-0751380774ae",
   "metadata": {
    "scrolled": true
   },
   "outputs": [
    {
     "name": "stdout",
     "output_type": "stream",
     "text": [
      "Index(['Device_ID', 'Device_Type', 'Model', 'Location', 'Installation_Date',\n",
      "       'Date', 'Device_Age_Days', 'Errors'],\n",
      "      dtype='object')\n",
      "Index(['Device_ID', 'Date', 'Failure_Probability'], dtype='object')\n",
      "  Device_ID      Device_Type Model  Location Installation_Date       Date  \\\n",
      "0     D0252    Smart Speaker  S300  Bathroom        2019-08-15 2024-09-01   \n",
      "1     D0746  Security Camera  C200    Garage        2018-08-07 2024-09-01   \n",
      "2     D0447    Smart Speaker  S200   Bedroom        2020-04-03 2024-09-01   \n",
      "3     D0813      Smart Light  L300   Kitchen        2018-08-29 2024-09-01   \n",
      "4     D0814    Smart Speaker  S100    Garage        2021-09-24 2024-09-01   \n",
      "\n",
      "   Device_Age_Days  Errors  Failure_Probability  \n",
      "0             1844       2             0.962667  \n",
      "1             2217       3             0.996667  \n",
      "2             1612       2             0.986667  \n",
      "3             2195       1             0.957619  \n",
      "4             1073       2             0.973000  \n"
     ]
    }
   ],
   "source": [
    "\n",
    "# Load your datasets\n",
    "device_data = pd.read_csv('synthetic_iot_devices.csv')\n",
    "maintenance_schedule = pd.read_csv('maintenance_schedule.csv')\n",
    "\n",
    "# Convert date columns to datetime\n",
    "device_data['Date'] = pd.to_datetime(device_data['Date'])\n",
    "maintenance_schedule['Date'] = pd.to_datetime(maintenance_schedule['Date'])\n",
    "\n",
    "# Ensure both DataFrames have the necessary columns\n",
    "print(device_data.columns)\n",
    "print(maintenance_schedule.columns)\n",
    "\n",
    "# Merge the DataFrames on 'Device_ID' and 'Date'\n",
    "merged_df = pd.merge(device_data, maintenance_schedule[['Device_ID', 'Date', 'Failure_Probability']],\n",
    "                     on=['Device_ID', 'Date'], how='left')\n",
    "\n",
    "# Check the merged DataFrame\n",
    "print(merged_df.head())\n"
   ]
  },
  {
   "cell_type": "code",
   "execution_count": 63,
   "id": "f6360635-3f61-486c-96e6-775fb90c6465",
   "metadata": {},
   "outputs": [
    {
     "data": {
      "text/html": [
       "\n",
       "        <iframe\n",
       "            width=\"100%\"\n",
       "            height=\"650\"\n",
       "            src=\"http://127.0.0.1:8050/\"\n",
       "            frameborder=\"0\"\n",
       "            allowfullscreen\n",
       "            \n",
       "        ></iframe>\n",
       "        "
      ],
      "text/plain": [
       "<IPython.lib.display.IFrame at 0x21588bf66c0>"
      ]
     },
     "metadata": {},
     "output_type": "display_data"
    }
   ],
   "source": [
    "from dash import dcc, html, dash_table\n",
    "import dash_bootstrap_components as dbc\n",
    "from dash.dependencies import Input, Output\n",
    "import pandas as pd\n",
    "import plotly.express as px\n",
    "\n",
    "# Load your dataset\n",
    "device_data = merged_df\n",
    "\n",
    "# Data preprocessing\n",
    "device_data['Installation_Date'] = pd.to_datetime(device_data['Installation_Date'])\n",
    "device_data['Date'] = pd.to_datetime(device_data['Date'])\n",
    "device_data['Device_Age_Days'] = (device_data['Date'] - device_data['Installation_Date']).dt.days\n",
    "\n",
    "# Initialize the Dash app\n",
    "app = dash.Dash(__name__, external_stylesheets=[dbc.themes.BOOTSTRAP])\n",
    "app.title = \"IoT Device Health Monitoring Dashboard\"\n",
    "\n",
    "# Layout of the dashboard\n",
    "app.layout = html.Div(style={'fontFamily': 'Arial, sans-serif', 'backgroundColor': '#f8f9fa'}, children=[\n",
    "    html.Div(style={'padding': '10px', 'backgroundColor': '#343a40', 'color': 'white'}, children=[\n",
    "        html.H1(\"IoT Device Health Monitoring Dashboard\", style={'textAlign': 'center'}),\n",
    "    ]),\n",
    "\n",
    "    dcc.Tabs(style={'margin': '20px'}, children=[\n",
    "        dcc.Tab(label='Device Health Status', style={'backgroundColor': '#f8f9fa'}, selected_style={'backgroundColor': '#e9ecef'}, children=[\n",
    "            html.Div(style={'padding': '20px'}, children=[\n",
    "                html.H2(\"Device Health Status Over Time\", style={'textAlign': 'center'}),\n",
    "                dcc.Dropdown(\n",
    "                    id='device-dropdown',\n",
    "                    options=[{'label': device, 'value': device} for device in device_data['Device_ID'].unique()],\n",
    "                    value=device_data['Device_ID'].unique()[0],\n",
    "                    style={'width': '80%', 'margin': 'auto'}\n",
    "                ),\n",
    "                dcc.Graph(id='health-status-graph')\n",
    "            ])\n",
    "        ]),\n",
    "        dcc.Tab(label='Anomaly Alerts', style={'backgroundColor': '#f8f9fa'}, selected_style={'backgroundColor': '#e9ecef'}, children=[\n",
    "            html.Div(style={'padding': '20px'}, children=[\n",
    "                html.H2(\"Anomaly Alerts\", style={'textAlign': 'center'}),\n",
    "                dcc.Graph(id='anomaly-alerts-graph')\n",
    "            ])\n",
    "        ]),\n",
    "        dcc.Tab(label='Failure Predictions', style={'backgroundColor': '#f8f9fa'}, selected_style={'backgroundColor': '#e9ecef'}, children=[\n",
    "            html.Div(style={'padding': '20px'}, children=[\n",
    "                html.H2(\"Failure Predictions\", style={'textAlign': 'center'}),\n",
    "                dcc.Graph(id='failure-predictions-graph')\n",
    "            ])\n",
    "        ]),\n",
    "        dcc.Tab(label='Historical Data', style={'backgroundColor': '#f8f9fa'}, selected_style={'backgroundColor': '#e9ecef'}, children=[\n",
    "            html.Div(style={'padding': '20px'}, children=[\n",
    "                html.H2(\"Historical Data\", style={'textAlign': 'center'}),\n",
    "                dcc.Graph(id='historical-data-graph')\n",
    "            ])\n",
    "        ])\n",
    "    ])\n",
    "])\n",
    "\n",
    "# Callbacks to update the graphs based on selected device\n",
    "@app.callback(\n",
    "    Output('health-status-graph', 'figure'),\n",
    "    [Input('device-dropdown', 'value')]\n",
    ")\n",
    "def update_health_status(selected_device):\n",
    "    filtered_data = device_data[device_data['Device_ID'] == selected_device]\n",
    "    fig = px.line(filtered_data, x='Date', y=['Device_Age_Days', 'Failure_Probability'],\n",
    "                  title=f'Device Age and Failure Probability Over Time for {selected_device}')\n",
    "    fig.update_layout(title_x=0.5, xaxis_title='Date', yaxis_title='Value', template='plotly_white')\n",
    "    return fig\n",
    "\n",
    "@app.callback(\n",
    "    Output('anomaly-alerts-graph', 'figure'),\n",
    "    [Input('device-dropdown', 'value')]\n",
    ")\n",
    "def update_anomaly_alerts(selected_device):\n",
    "    filtered_data = device_data[device_data['Device_ID'] == selected_device]\n",
    "    fig = px.scatter(filtered_data, x='Date', y='Errors', color='Errors',\n",
    "                     title=f'Anomaly Alerts for {selected_device}', color_continuous_scale='Viridis')\n",
    "    fig.update_layout(title_x=0.5, xaxis_title='Date', yaxis_title='Errors', template='plotly_white')\n",
    "    return fig\n",
    "\n",
    "@app.callback(\n",
    "    Output('failure-predictions-graph', 'figure'),\n",
    "    [Input('device-dropdown', 'value')]\n",
    ")\n",
    "def update_failure_predictions(selected_device):\n",
    "    filtered_data = device_data[device_data['Device_ID'] == selected_device]\n",
    "    fig = px.bar(filtered_data, x='Date', y='Failure_Probability',\n",
    "                 title=f'Failure Predictions for {selected_device}', labels={'Failure_Probability': 'Failure Probability'})\n",
    "    fig.update_layout(title_x=0.5, xaxis_title='Date', yaxis_title='Failure Probability', template='plotly_white')\n",
    "    return fig\n",
    "\n",
    "@app.callback(\n",
    "    Output('historical-data-graph', 'figure'),\n",
    "    [Input('device-dropdown', 'value')]\n",
    ")\n",
    "def update_historical_data(selected_device):\n",
    "    filtered_data = device_data[device_data['Device_ID'] == selected_device]\n",
    "    fig = px.line(filtered_data, x='Date', y=['Device_Age_Days', 'Failure_Probability'],\n",
    "                  title=f'Historical Data for {selected_device}')\n",
    "    fig.update_layout(title_x=0.5, xaxis_title='Date', yaxis_title='Value', template='plotly_white')\n",
    "    return fig\n",
    "\n",
    "# Run the app\n",
    "if __name__ == '__main__':\n",
    "    app.run_server(debug=True)"
   ]
  },
  {
   "cell_type": "code",
   "execution_count": null,
   "id": "3378aeab-3870-4af9-8916-652d4ded56e8",
   "metadata": {},
   "outputs": [],
   "source": []
  }
 ],
 "metadata": {
  "kernelspec": {
   "display_name": "Python 3 (ipykernel)",
   "language": "python",
   "name": "python3"
  },
  "language_info": {
   "codemirror_mode": {
    "name": "ipython",
    "version": 3
   },
   "file_extension": ".py",
   "mimetype": "text/x-python",
   "name": "python",
   "nbconvert_exporter": "python",
   "pygments_lexer": "ipython3",
   "version": "3.12.4"
  }
 },
 "nbformat": 4,
 "nbformat_minor": 5
}
